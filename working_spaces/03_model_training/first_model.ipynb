{
 "cells": [
  {
   "cell_type": "code",
   "execution_count": 65,
   "metadata": {},
   "outputs": [],
   "source": [
    "import torch\n",
    "import torch.nn as nn\n",
    "import torch.optim as optim\n",
    "\n",
    "class RecommendationModel(nn.Module):\n",
    "    def __init__(self, num_batters, num_bowlers, embedding_dim, num_numerical_features):\n",
    "        super(RecommendationModel, self).__init__()\n",
    "\n",
    "        # Embedding layers\n",
    "        self.batter_embedding = nn.Embedding(num_batters, embedding_dim)\n",
    "        self.bowler_embedding = nn.Embedding(num_bowlers, embedding_dim)\n",
    "\n",
    "        # Fully connected layers\n",
    "        input_size = embedding_dim * 2 + num_numerical_features  # 3 embeddings + numerical features\n",
    "        self.fc1 = nn.Linear(input_size, 64)\n",
    "        self.fc2 = nn.Linear(64, 32)\n",
    "        self.fc3 = nn.Linear(32, 1)  # Output layer (e.g., predicting rating, click probability, etc.)\n",
    "\n",
    "        self.relu = nn.ReLU()\n",
    "        self.sigmoid = nn.Sigmoid()  # Use sigmoid for binary classification\n",
    "\n",
    "    def forward(self, batter_ids, bowler_ids, numerical_features):\n",
    "        # Get embeddings\n",
    "        user_emb = self.batter_embedding(batter_ids)\n",
    "        item_emb = self.bowler_embedding(bowler_ids)\n",
    "\n",
    "        # Concatenate all features\n",
    "        x = torch.cat([user_emb, item_emb, numerical_features], dim=1)\n",
    "\n",
    "        # Forward pass through fully connected layers\n",
    "        x = self.relu(self.fc1(x))\n",
    "        x = self.relu(self.fc2(x))\n",
    "        x = self.sigmoid(self.fc3(x))  # Output probability\n",
    "\n",
    "        return x"
   ]
  },
  {
   "cell_type": "code",
   "execution_count": 66,
   "metadata": {},
   "outputs": [
    {
     "name": "stdout",
     "output_type": "stream",
     "text": [
      "20380\n"
     ]
    }
   ],
   "source": [
    "import pandas as pd\n",
    "\n",
    "dat = pd.read_csv('../../data/step_03/one_day_matches.csv')\n",
    "print(len(dat))\n",
    "\n",
    "num_batters = len(dat.batter_on_strike.unique())\n",
    "num_bowlers = len(dat.bowler_on_strike.unique())\n",
    "num_other_cols = len(dat.columns) - 3\n",
    "\n",
    "from sklearn.preprocessing import LabelEncoder, MinMaxScaler, StandardScaler\n",
    "\n",
    "# Convert user IDs to integer indices\n",
    "batter_encoder = LabelEncoder()\n",
    "bowler_encoder = LabelEncoder()\n",
    "outcome_scaler = MinMaxScaler()\n",
    "other_scaler = MinMaxScaler()\n",
    "\n",
    "batter_encodings = batter_encoder.fit_transform(dat.batter_on_strike.unique())\n",
    "bowler_encodings = bowler_encoder.fit_transform(dat.bowler_on_strike.unique())\n",
    "\n",
    "batters_col = dat.batter_on_strike.values\n",
    "bowlers_col = dat.bowler_on_strike.values\n",
    "outcomes_col = outcome_scaler.fit_transform(dat.outcome.values.reshape(-1, 1))\n",
    "other_cols = dat.drop(['batter_on_strike', 'bowler_on_strike', 'outcome'], axis=1).values\n",
    "other_cols = other_scaler.fit_transform(other_cols)"
   ]
  },
  {
   "cell_type": "code",
   "execution_count": 67,
   "metadata": {},
   "outputs": [],
   "source": [
    "# create train, valid and test sets\n",
    "from sklearn.model_selection import train_test_split\n",
    "\n",
    "batters_train, batters_test, bowlers_train, bowlers_test, other_train, other_test, outcome_train, outcome_test = train_test_split(batters_col, bowlers_col, other_cols, outcomes_col, test_size=0.1)\n",
    "batters_train, batters_valid, bowlers_train, bowlers_valid, other_train, other_valid, outcome_train, outcome_valid = train_test_split(batters_train, bowlers_train, other_train, outcome_train, test_size=0.2)\n",
    "\n",
    "# Convert to PyTorch tensors\n",
    "batters_train = torch.LongTensor(batter_encoder.transform(batters_train))\n",
    "bowlers_train = torch.LongTensor(bowler_encoder.transform(bowlers_train))\n",
    "other_train = torch.FloatTensor(other_train)\n",
    "outcome_train = torch.FloatTensor(outcome_train)\n",
    "\n",
    "batters_valid = torch.LongTensor(batter_encoder.transform(batters_valid))\n",
    "bowlers_valid = torch.LongTensor(bowler_encoder.transform(bowlers_valid))\n",
    "other_valid = torch.FloatTensor(other_valid)\n",
    "outcome_valid = torch.FloatTensor(outcome_valid)\n",
    "\n",
    "batters_test = torch.LongTensor(batter_encoder.transform(batters_test))\n",
    "bowlers_test = torch.LongTensor(bowler_encoder.transform(bowlers_test))\n",
    "other_test = torch.FloatTensor(other_test)\n",
    "outcome_test = torch.FloatTensor(outcome_test)"
   ]
  },
  {
   "cell_type": "code",
   "execution_count": 68,
   "metadata": {},
   "outputs": [
    {
     "name": "stdout",
     "output_type": "stream",
     "text": [
      "Validation loss: 0.02952091209590435\n",
      "Validation loss: 0.02581561915576458\n",
      "Validation loss: 0.02556523308157921\n",
      "Validation loss: 0.025452548637986183\n",
      "Validation loss: 0.025383658707141876\n",
      "Validation loss: 0.025334089994430542\n",
      "Validation loss: 0.02529221773147583\n",
      "Validation loss: 0.025256101042032242\n",
      "Validation loss: 0.02522486262023449\n",
      "Validation loss: 0.025197356939315796\n",
      "Test loss: 0.027515867725014687\n"
     ]
    }
   ],
   "source": [
    "# initialise model\n",
    "model = RecommendationModel(num_batters, num_bowlers, 16, num_other_cols)\n",
    "\n",
    "# Loss and optimizer\n",
    "criterion = nn.MSELoss()\n",
    "optimizer = optim.Adam(model.parameters(), lr=0.0001)\n",
    "\n",
    "# Training loop\n",
    "num_epochs = 10\n",
    "batch_size = 32\n",
    "\n",
    "for epoch in range(num_epochs):\n",
    "    for i in range(0, len(batters_train), batch_size):\n",
    "        # Generate batch\n",
    "        batch_batters = batters_train[i:i+batch_size]\n",
    "        batch_bowlers = bowlers_train[i:i+batch_size]\n",
    "        batch_other = other_train[i:i+batch_size]\n",
    "        batch_outcomes = outcome_train[i:i+batch_size]\n",
    "\n",
    "        # Forward pass\n",
    "        outputs = model(batch_batters, batch_bowlers, batch_other)\n",
    "        loss = criterion(outputs, batch_outcomes.view(-1, 1))\n",
    "\n",
    "        # Backward pass\n",
    "        optimizer.zero_grad()\n",
    "        loss.backward()\n",
    "        optimizer.step()\n",
    "\n",
    "        if (i+1) % 100 == 0:\n",
    "            print(f'Epoch [{epoch+1}/{num_epochs}], Step [{i+1}/{len(batters_train)}], Loss: {loss.item()}')\n",
    "    \n",
    "    # Validation loss\n",
    "    with torch.no_grad():\n",
    "        outputs = model(batters_valid, bowlers_valid, other_valid)\n",
    "        loss = criterion(outputs, outcome_valid.view(-1, 1))\n",
    "        print(f'Validation loss: {loss.item()}')\n",
    "    \n",
    "# Test loss\n",
    "\n",
    "with torch.no_grad():\n",
    "    outputs = model(batters_test, bowlers_test, other_test)\n",
    "    loss = criterion(outputs, outcome_test.view(-1, 1))\n",
    "    print(f'Test loss: {loss.item()}')"
   ]
  },
  {
   "cell_type": "code",
   "execution_count": 70,
   "metadata": {},
   "outputs": [
    {
     "name": "stdout",
     "output_type": "stream",
     "text": [
      "tensor(0.3120) tensor(1.6585)\n"
     ]
    }
   ],
   "source": [
    "with torch.no_grad():\n",
    "    outputs = model(batters_test, bowlers_test, other_test) * dat.outcome.max()\n",
    "    print(outputs.min(), outputs.max())"
   ]
  }
 ],
 "metadata": {
  "kernelspec": {
   "display_name": "venv",
   "language": "python",
   "name": "python3"
  },
  "language_info": {
   "codemirror_mode": {
    "name": "ipython",
    "version": 3
   },
   "file_extension": ".py",
   "mimetype": "text/x-python",
   "name": "python",
   "nbconvert_exporter": "python",
   "pygments_lexer": "ipython3",
   "version": "3.10.11"
  }
 },
 "nbformat": 4,
 "nbformat_minor": 2
}
