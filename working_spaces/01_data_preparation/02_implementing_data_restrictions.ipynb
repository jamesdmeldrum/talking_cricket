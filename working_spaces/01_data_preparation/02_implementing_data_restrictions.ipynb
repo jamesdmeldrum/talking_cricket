{
 "cells": [
  {
   "cell_type": "markdown",
   "metadata": {},
   "source": [
    "# Implementing Data Restrictions"
   ]
  },
  {
   "cell_type": "code",
   "execution_count": 25,
   "metadata": {},
   "outputs": [],
   "source": [
    "import json\n",
    "import os"
   ]
  },
  {
   "cell_type": "markdown",
   "metadata": {},
   "source": [
    "### Creating Function to Read JSON files"
   ]
  },
  {
   "cell_type": "code",
   "execution_count": 8,
   "metadata": {},
   "outputs": [],
   "source": [
    "def load_data_from_json(filepath):\n",
    "    dict_format = json.loads(open(filepath, \"r\").read())\n",
    "    return dict_format"
   ]
  },
  {
   "cell_type": "markdown",
   "metadata": {},
   "source": [
    "### Create Functions to Enforce Restrictions"
   ]
  },
  {
   "cell_type": "code",
   "execution_count": 21,
   "metadata": {},
   "outputs": [],
   "source": [
    "# Return True for matches played in men's competitions and False for matches played in women's competitions\n",
    "def mens_only_matches(match_dict):\n",
    "    return match_dict['info']['gender'] == 'male'\n",
    "\n",
    "# Return True for matches with a winner and False for matches without a winner\n",
    "def has_result(match_dict):\n",
    "    try:\n",
    "        winner = match_dict['info']['outcome']['winner']\n",
    "    except KeyError:\n",
    "        return False\n",
    "    return True"
   ]
  },
  {
   "cell_type": "code",
   "execution_count": 31,
   "metadata": {},
   "outputs": [
    {
     "name": "stdout",
     "output_type": "stream",
     "text": [
      "Number of eligible matches: 3472\n",
      "Number of ineligible matches: 904\n"
     ]
    }
   ],
   "source": [
    "eligible_matches = []\n",
    "ineligible_matches = []\n",
    "\n",
    "internationals_directory = \"../../data/raw/international/\"\n",
    "domestics_directory = \"../../data/raw/domestic/\"\n",
    "\n",
    "for directory in [internationals_directory, domestics_directory]:\n",
    "\n",
    "    for filename in [x for x in os.listdir(directory) if x.endswith(\"json\")]:\n",
    "        match_dict = load_data_from_json(directory + filename)\n",
    "        try:\n",
    "            assert mens_only_matches(match_dict)\n",
    "            assert has_result(match_dict)\n",
    "        except AssertionError:\n",
    "            ineligible_matches.append(filename)\n",
    "            continue\n",
    "        eligible_matches.append(filename)\n",
    "\n",
    "assert len(eligible_matches) + len(ineligible_matches) == len([x for x in os.listdir(internationals_directory) if x.endswith(\"json\")]) + len([x for x in os.listdir(domestics_directory) if x.endswith(\"json\")])\n",
    "\n",
    "print(\"Number of eligible matches:\", len(eligible_matches))\n",
    "print(\"Number of ineligible matches:\", len(ineligible_matches))"
   ]
  }
 ],
 "metadata": {
  "kernelspec": {
   "display_name": "venv",
   "language": "python",
   "name": "python3"
  },
  "language_info": {
   "codemirror_mode": {
    "name": "ipython",
    "version": 3
   },
   "file_extension": ".py",
   "mimetype": "text/x-python",
   "name": "python",
   "nbconvert_exporter": "python",
   "pygments_lexer": "ipython3",
   "version": "3.10.11"
  }
 },
 "nbformat": 4,
 "nbformat_minor": 2
}
